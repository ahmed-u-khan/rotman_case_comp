{
 "cells": [
  {
   "cell_type": "markdown",
   "metadata": {},
   "source": [
    "# Rotman 2022 MMA Datathon"
   ]
  },
  {
   "cell_type": "markdown",
   "metadata": {},
   "source": [
    "This notebook prepares the dataset for the given case study.  Please follow the following instructions:\n",
    "\n",
    "1. Download the dataset from: https://www.kaggle.com/datasets/frtgnn/dunnhumby-the-complete-journey and extract the files into the same directory as this notebook or modify the `source_dir` variable to its location.\n",
    "3. Ensure your Python environment has the `pandas` package installed.\n",
    "2. Run each cell of the notebook in order to generate the output dataset.  The script should generate two files: `demographics.csv` and `transactions.csv`.  These two files will form the dataset for the datathon.\n",
    "\n",
    "Note: The dataset is provided by [Dunhumby](https://www.dunnhumby.com/source-files/).  Please see all the associated terms and conditions."
   ]
  },
  {
   "cell_type": "code",
   "execution_count": null,
   "metadata": {},
   "outputs": [],
   "source": [
    "import pandas as pd\n",
    "\n",
    "source_dir = '.'"
   ]
  },
  {
   "cell_type": "code",
   "execution_count": null,
   "metadata": {},
   "outputs": [],
   "source": [
    "txns = pd.read_csv(source_dir + '/transaction_data.csv')\n",
    "prod = pd.read_csv(source_dir + '/product.csv')\n",
    "demo = pd.read_csv(source_dir + '/hh_demographic.csv')"
   ]
  },
  {
   "cell_type": "markdown",
   "metadata": {},
   "source": [
    "# Prepare Data"
   ]
  },
  {
   "cell_type": "code",
   "execution_count": null,
   "metadata": {},
   "outputs": [],
   "source": [
    "txns_prep = txns.copy()\n",
    "print(\"start size: \", txns.shape)\n",
    "        \n",
    "# 1. Remove COUPON_DISC to not confuse people\n",
    "del txns_prep['COUPON_DISC']\n",
    "\n",
    "# 2. Remove positive RETAIL_DISC\n",
    "txns_prep = txns_prep[txns_prep.RETAIL_DISC <= 0.]\n",
    "\n",
    "# 3. Remove 0 or negative sales_VALUE\n",
    "txns_prep = txns_prep[txns_prep.SALES_VALUE > 0.]\n",
    "\n",
    "print(\"end size:   \", txns_prep.shape)"
   ]
  },
  {
   "cell_type": "code",
   "execution_count": null,
   "metadata": {},
   "outputs": [],
   "source": [
    "# 4. Join product table\n",
    "txns_merge = txns_prep.merge(prod, how='left')\n",
    "print(txns_merge.shape)"
   ]
  },
  {
   "cell_type": "code",
   "execution_count": null,
   "metadata": {},
   "outputs": [],
   "source": [
    "# 5. Output files\n",
    "txns_merge.to_csv('transactions.csv', index=False)\n",
    "demo.to_csv('demographics.csv', index=False)"
   ]
  }
 ],
 "metadata": {
  "kernelspec": {
   "display_name": "Python 3",
   "language": "python",
   "name": "python3"
  },
  "language_info": {
   "codemirror_mode": {
    "name": "ipython",
    "version": 3
   },
   "file_extension": ".py",
   "mimetype": "text/x-python",
   "name": "python",
   "nbconvert_exporter": "python",
   "pygments_lexer": "ipython3",
   "version": "3.7.3"
  }
 },
 "nbformat": 4,
 "nbformat_minor": 4
}
